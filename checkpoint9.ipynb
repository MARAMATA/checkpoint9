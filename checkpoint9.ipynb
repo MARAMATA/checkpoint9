{
 "cells": [
  {
   "cell_type": "markdown",
   "id": "b2f9d285",
   "metadata": {},
   "source": [
    "# Écrivez un programme Python pour une recherche binaire."
   ]
  },
  {
   "cell_type": "code",
   "execution_count": 2,
   "id": "90f2291a",
   "metadata": {},
   "outputs": [
    {
     "name": "stdout",
     "output_type": "stream",
     "text": [
      "False\n",
      "True\n"
     ]
    }
   ],
   "source": [
    "def recherche_binaire(liste, valeur):\n",
    "    \"\"\"\n",
    "    Cette fonction effectue une recherche binaire sur une liste triée et renvoie\n",
    "    True si la valeur est présente, False sinon.\n",
    "    \"\"\"\n",
    "    debut = 0\n",
    "    fin = len(liste) - 1\n",
    "\n",
    "    while debut <= fin:\n",
    "        milieu = (debut + fin) // 2  # obtenir l'indice du milieu\n",
    "        if liste[milieu] == valeur:  # la valeur est trouvée\n",
    "            return True\n",
    "        elif liste[milieu] < valeur:  # la valeur est dans la partie supérieure\n",
    "            debut = milieu + 1\n",
    "        else:  # la valeur est dans la partie inférieure\n",
    "            fin = milieu - 1\n",
    "\n",
    "    return False  # la valeur n'est pas trouvée\n",
    "# Tests\n",
    "print(recherche_binaire([1,2,3,5,8], 6))  \n",
    "print(recherche_binaire([1,2,3,5,8], 5))  "
   ]
  },
  {
   "cell_type": "markdown",
   "id": "a2cccf0a",
   "metadata": {},
   "source": [
    "# Écrivez un programme Python pour calculer la valeur de 'a' à la puissance 'b'"
   ]
  },
  {
   "cell_type": "code",
   "execution_count": 3,
   "id": "0d0dd524",
   "metadata": {},
   "outputs": [
    {
     "name": "stdout",
     "output_type": "stream",
     "text": [
      "81\n"
     ]
    }
   ],
   "source": [
    "# Définition de la fonction puissance\n",
    "def puissance(a, b):\n",
    "    \"\"\"\n",
    "    Cette fonction calcule la valeur de 'a' à la puissance 'b'.\n",
    "    \"\"\"\n",
    "    if b == 0:\n",
    "        return 1\n",
    "    elif b % 2 == 0:\n",
    "        p = puissance(a, b/2)\n",
    "        return p * p\n",
    "    else:\n",
    "        p = puissance(a, (b-1)/2)\n",
    "        return p * p * a\n",
    "\n",
    "\n",
    "# Test\n",
    "print(puissance(3,4))  "
   ]
  },
  {
   "cell_type": "markdown",
   "id": "1ef0fc18",
   "metadata": {},
   "source": [
    "# Écrivez un programme Python pour trier une liste d'éléments à l'aide de l'algorithme de tri à bulles.\n",
    "\n"
   ]
  },
  {
   "cell_type": "code",
   "execution_count": 4,
   "id": "84f19e5e",
   "metadata": {},
   "outputs": [
    {
     "name": "stdout",
     "output_type": "stream",
     "text": [
      "[13, 22, 29, 37, 46, 49, 52, 56, 71]\n"
     ]
    }
   ],
   "source": [
    "# Définition de la fonction tri_a_bulles\n",
    "def tri_a_bulles(liste):\n",
    "    \"\"\"\n",
    "    Cette fonction trie une liste d'éléments en utilisant l'algorithme de tri à bulles.\n",
    "    \"\"\"\n",
    "    n = len(liste)\n",
    "    for i in range(n):\n",
    "        for j in range(0, n-i-1):\n",
    "            if liste[j] > liste[j+1]:\n",
    "                liste[j], liste[j+1] = liste[j+1], liste[j]\n",
    "\n",
    "    return liste\n",
    "\n",
    "# Exemple de données\n",
    "donnees = [29,13,22,37,52,49,46,71,56]\n",
    "\n",
    "# Tri de la liste\n",
    "resultat = tri_a_bulles(donnees)\n",
    "\n",
    "# Affichage du résultat\n",
    "print(resultat) # Output: [13, 22, 29, 37, 46, 49, 52, 56, 71]"
   ]
  },
  {
   "cell_type": "markdown",
   "id": "651f19e7",
   "metadata": {},
   "source": [
    "# Écrivez un programme Python pour trier une liste d'éléments à l'aide de l'algorithme de tri par fusion."
   ]
  },
  {
   "cell_type": "code",
   "execution_count": 5,
   "id": "024c7de7",
   "metadata": {},
   "outputs": [
    {
     "name": "stdout",
     "output_type": "stream",
     "text": [
      "[13, 22, 29, 37, 46, 49, 52, 56, 71]\n"
     ]
    }
   ],
   "source": [
    "# Définition des fonctions tri_fusion et fusion\n",
    "def tri_fusion(liste):\n",
    "    \"\"\"\n",
    "    Cette fonction trie une liste d'éléments en utilisant l'algorithme de tri par fusion.\n",
    "    \"\"\"\n",
    "    if len(liste) <= 1:\n",
    "        return liste\n",
    "\n",
    "    milieu = len(liste) // 2\n",
    "    gauche = liste[:milieu]\n",
    "    droite = liste[milieu:]\n",
    "\n",
    "    gauche = tri_fusion(gauche)\n",
    "    droite = tri_fusion(droite)\n",
    "\n",
    "    return fusion(gauche, droite)\n",
    "\n",
    "def fusion(gauche, droite):\n",
    "    \"\"\"\n",
    "    Cette fonction fusionne deux listes triées en une seule liste triée.\n",
    "    \"\"\"\n",
    "    resultat = []\n",
    "    i = 0\n",
    "    j = 0\n",
    "    while i < len(gauche) and j < len(droite):\n",
    "        if gauche[i] < droite[j]:\n",
    "            resultat.append(gauche[i])\n",
    "            i += 1\n",
    "        else:\n",
    "            resultat.append(droite[j])\n",
    "            j += 1\n",
    "\n",
    "    resultat += gauche[i:]\n",
    "    resultat += droite[j:]\n",
    "\n",
    "    return resultat\n",
    "\n",
    "# Exemple de données\n",
    "donnees = [29,13,22,37,52,49,46,71,56]\n",
    "\n",
    "# Tri de la liste\n",
    "resultat = tri_fusion(donnees)\n",
    "\n",
    "# Affichage du résultat\n",
    "print(resultat) # Output: [13, 22, 29, 37, 46, 49, 52, 56, 71]"
   ]
  },
  {
   "cell_type": "markdown",
   "id": "e89ce737",
   "metadata": {},
   "source": [
    "# Écrivez un programme Python pour trier une liste d'éléments à l'aide de l'algorithme de tri rapide."
   ]
  },
  {
   "cell_type": "code",
   "execution_count": 6,
   "id": "46a6622a",
   "metadata": {},
   "outputs": [
    {
     "data": {
      "text/plain": [
       "[13, 22, 29, 37, 46, 49, 52, 56, 71]"
      ]
     },
     "execution_count": 6,
     "metadata": {},
     "output_type": "execute_result"
    }
   ],
   "source": [
    "def tri_rapide(arr):\n",
    "    if len(arr) <= 1:\n",
    "        return arr\n",
    "    else:\n",
    "        pivot = arr[0]\n",
    "        gauche = []\n",
    "        droite = []\n",
    "        for i in arr[1:]:\n",
    "            if i < pivot:\n",
    "                gauche.append(i)\n",
    "            else:\n",
    "                droite.append(i)\n",
    "        return tri_rapide(gauche) + [pivot] + tri_rapide(droite)\n",
    "\n",
    "# Exemple de données\n",
    "arr = [29, 13, 22, 37, 52, 49, 46, 71, 56]\n",
    "\n",
    "# Tri de la liste avec l'algorithme de tri rapide\n",
    "tri_rapide(arr)\n",
    "\n",
    "# Résultat attendu : [13, 22, 29, 37, 42, 46, 49, 56, 71]\n"
   ]
  }
 ],
 "metadata": {
  "kernelspec": {
   "display_name": "Python 3 (ipykernel)",
   "language": "python",
   "name": "python3"
  },
  "language_info": {
   "codemirror_mode": {
    "name": "ipython",
    "version": 3
   },
   "file_extension": ".py",
   "mimetype": "text/x-python",
   "name": "python",
   "nbconvert_exporter": "python",
   "pygments_lexer": "ipython3",
   "version": "3.9.13"
  }
 },
 "nbformat": 4,
 "nbformat_minor": 5
}
